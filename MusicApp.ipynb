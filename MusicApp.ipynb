{
 "cells": [
  {
   "cell_type": "code",
   "execution_count": null,
   "id": "12f905ad-f22a-4be9-bb15-f05b3cb83498",
   "metadata": {},
   "outputs": [],
   "source": [
    "Simple Example of How to train an ML model on your dataset, and get it to make predictions."
   ]
  },
  {
   "cell_type": "code",
   "execution_count": 47,
   "id": "7e169191-e446-4973-a17d-0556f467b9b6",
   "metadata": {},
   "outputs": [
    {
     "data": {
      "text/plain": [
       "array(['HipHop', 'Dance'], dtype=object)"
      ]
     },
     "execution_count": 47,
     "metadata": {},
     "output_type": "execute_result"
    }
   ],
   "source": [
    "import pandas as pd\n",
    "from sklearn.tree import DecisionTreeClassifier\n",
    "\n",
    "music_data = pd.read_csv('music.csv')\n",
    "X = music_data.drop(columns = ['genre'])  # input set, which conatins only the first 2 columns\n",
    "y = music_data['genre'] # output dataset\n",
    "\n",
    "model = DecisionTreeClassifier()  # instead of having to create our own prediction model we can just use any pre-made prediction models, her we are using the Decision Tree.\n",
    "model.fit(X.values,y)  #this takes an input and output set\n",
    "predictions = model.predict([ [21,1], [22,0] ])  # We are asking our model to predict genre choice for 21 year old male and 22 year old female, using our dataset.\n",
    "predictions"
   ]
  },
  {
   "cell_type": "code",
   "execution_count": null,
   "id": "06674c4f-5d90-4b5d-a8df-d246c3ebae86",
   "metadata": {},
   "outputs": [],
   "source": [
    "How to test accuracy of your trained model"
   ]
  },
  {
   "cell_type": "code",
   "execution_count": 40,
   "id": "92c63040-aab4-4a93-9ed2-66e48b995879",
   "metadata": {},
   "outputs": [
    {
     "data": {
      "text/plain": [
       "1.0"
      ]
     },
     "execution_count": 40,
     "metadata": {},
     "output_type": "execute_result"
    }
   ],
   "source": [
    "import pandas as pd\n",
    "from sklearn.tree import DecisionTreeClassifier\n",
    "from sklearn.model_selection import train_test_split\n",
    "from sklearn.metrics import accuracy_score\n",
    "\n",
    "music_data = pd.read_csv('music.csv')\n",
    "X = music_data.drop(columns = ['genre'])  # input set, which conatins only the first 2 columns\n",
    "y = music_data['genre'] # output dataset\n",
    "X_train, X_test, y_train, y_test = train_test_split(X,y, test_size=0.2)  # splits the dataset into 2 parts, train, and test. This allows us to first let the model make predictions based on the \"Train\" Dataset. It also takes a part of X, \"X_test\"(the input part), and a part of Y, \"y_test\" (the output part). 0.2 means we are using 80% of our data for training, and 20% for testing. \n",
    "\n",
    "model = DecisionTreeClassifier()  # instead of having to create our own prediction model we can just use any pre-made prediction models, her we are using the Decision Tree.\n",
    "model.fit(X_train,y_train)  #taking train datasets as inpts\n",
    "predictions = model.predict(X_test)  # X contains the input values for testing\n",
    "score = accuracy_score(y_test, predictions) #comparing output values corresponding to X_test inputs, with the predictions made by our model\n",
    "#Note, score will have different values everytime you run it, because everytime the dataset gets split using train_test_split() function, we get different train and test datasets.\n",
    "score\n"
   ]
  },
  {
   "cell_type": "code",
   "execution_count": null,
   "id": "3272a42b-721a-4dbe-8adb-469ed5e566ba",
   "metadata": {},
   "outputs": [],
   "source": [
    "# Persisting Models: How to save our trained model so we don't have to train it everytime we need to make a new prediction. This is extremely imporat for Large datasets.\n"
   ]
  },
  {
   "cell_type": "code",
   "execution_count": 48,
   "id": "98f7999f-82d7-4d94-9ac2-62069120a4a3",
   "metadata": {},
   "outputs": [
    {
     "data": {
      "text/plain": [
       "['Music-recommender.joblib']"
      ]
     },
     "execution_count": 48,
     "metadata": {},
     "output_type": "execute_result"
    }
   ],
   "source": [
    "import pandas as pd\n",
    "from sklearn.tree import DecisionTreeClassifier\n",
    "import joblib #used for saving and loading models\n",
    "\n",
    "music_data = pd.read_csv('music.csv')\n",
    "X = music_data.drop(columns = ['genre'])  # input set, which conatins only the first 2 columns\n",
    "y = music_data['genre'] # output dataset\n",
    "\n",
    "model = DecisionTreeClassifier()  \n",
    "model.fit(X.values,y)  \n",
    "\n",
    "joblib.dump(model, 'Music-recommender.joblib')\n",
    "\n",
    "# predictions = model.predict([ [21,1], [22,0] ]) "
   ]
  },
  {
   "cell_type": "code",
   "execution_count": null,
   "id": "66e61a93-1b62-437d-a31b-af01121fe552",
   "metadata": {},
   "outputs": [],
   "source": [
    "Now we can simply load our model, as our model has been saved."
   ]
  },
  {
   "cell_type": "code",
   "execution_count": 49,
   "id": "ef0c405a-3c86-4241-9977-cabe120170bb",
   "metadata": {},
   "outputs": [
    {
     "data": {
      "text/plain": [
       "array(['HipHop', 'Dance'], dtype=object)"
      ]
     },
     "execution_count": 49,
     "metadata": {},
     "output_type": "execute_result"
    }
   ],
   "source": [
    "import pandas as pd\n",
    "from sklearn.tree import DecisionTreeClassifier\n",
    "import joblib #used for saving and loading models\n",
    "\n",
    "# music_data = pd.read_csv('music.csv')\n",
    "# X = music_data.drop(columns = ['genre'])  # input set, which conatins only the first 2 columns\n",
    "# y = music_data['genre'] # output dataset\n",
    "\n",
    "# model = DecisionTreeClassifier()  \n",
    "# model.fit(X,y)  \n",
    "\n",
    "model = joblib.load('Music-recommender.joblib')\n",
    "predictions = model.predict([ [21,1], [22,0] ]) \n",
    "predictions"
   ]
  },
  {
   "cell_type": "code",
   "execution_count": null,
   "id": "57033719-9625-4e0f-870a-b3b1a7f69ef5",
   "metadata": {},
   "outputs": [],
   "source": [
    "Visualising Decision Trees: How Decision Trees Work"
   ]
  },
  {
   "cell_type": "code",
   "execution_count": 52,
   "id": "81dfaedd-df71-46a7-8bdd-c7ee3cd1a461",
   "metadata": {},
   "outputs": [],
   "source": [
    "import pandas as pd\n",
    "from sklearn.tree import DecisionTreeClassifier\n",
    "from sklearn import tree\n",
    "\n",
    "music_data = pd.read_csv('music.csv')\n",
    "X = music_data.drop(columns = ['genre'])  # input set, which conatins only the first 2 columns\n",
    "y = music_data['genre'] # output dataset\n",
    "\n",
    "model = DecisionTreeClassifier()  # instead of having to create our own prediction model we can just use any pre-made prediction models, her we are using the Decision Tree.\n",
    "model.fit(X,y)  #this takes an input and output set\n",
    "\n",
    "tree.export_graphviz(model,out_file='music-recommended.dot', \n",
    "                     feature_names=['age','gender'], \n",
    "                     class_names=sorted(y.unique()), \n",
    "                     label='all', \n",
    "                     rounded=True, \n",
    "                     filled=True)\n",
    "\n",
    "#This export_graphviz function is being used to create a dot file. We can open this docfile in vs code, and then run the following command in the vs code terminal:\n",
    "# dot -Tpng your_dotfile_name.dot -o output.png\n",
    "# Now, a visualisation of your Decision tree is created inside the output.png file.\n"
   ]
  }
 ],
 "metadata": {
  "kernelspec": {
   "display_name": "Python 3 (ipykernel)",
   "language": "python",
   "name": "python3"
  },
  "language_info": {
   "codemirror_mode": {
    "name": "ipython",
    "version": 3
   },
   "file_extension": ".py",
   "mimetype": "text/x-python",
   "name": "python",
   "nbconvert_exporter": "python",
   "pygments_lexer": "ipython3",
   "version": "3.12.7"
  }
 },
 "nbformat": 4,
 "nbformat_minor": 5
}
